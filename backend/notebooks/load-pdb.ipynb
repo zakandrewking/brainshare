{
 "cells": [
  {
   "cell_type": "code",
   "execution_count": 26,
   "id": "ead1906a-c9dc-410b-b6c0-4ff2d873512e",
   "metadata": {},
   "outputs": [],
   "source": [
    "import boto3\n",
    "import io\n",
    "import asyncio\n",
    "import os"
   ]
  },
  {
   "cell_type": "code",
   "execution_count": 5,
   "id": "7db0ea2a-16e9-478d-89fb-ef0609768d4d",
   "metadata": {},
   "outputs": [],
   "source": [
    "bucket_name = \"brainshare-primary-6944fc2\"\n",
    "object_key = \"entries.idx\"\n",
    "s3 = boto3.client(\"s3\")"
   ]
  },
  {
   "cell_type": "code",
   "execution_count": 6,
   "id": "3a5942de-fd76-40b2-b4ee-f0cc7ca19374",
   "metadata": {},
   "outputs": [],
   "source": [
    "buffer = io.BytesIO()"
   ]
  },
  {
   "cell_type": "code",
   "execution_count": 7,
   "id": "a64216f3-2f91-44ab-ae91-4300ed1976fd",
   "metadata": {},
   "outputs": [],
   "source": [
    "s3.download_fileobj(bucket_name, object_key, buffer)"
   ]
  },
  {
   "cell_type": "code",
   "execution_count": 8,
   "id": "2603c898-3da5-4096-b833-b78a260b7c9a",
   "metadata": {},
   "outputs": [
    {
     "data": {
      "text/plain": [
       "0"
      ]
     },
     "execution_count": 8,
     "metadata": {},
     "output_type": "execute_result"
    }
   ],
   "source": [
    "buffer.seek(0)"
   ]
  },
  {
   "cell_type": "code",
   "execution_count": 9,
   "id": "4181dfe2-9ff5-4632-94b5-d5fa9ffb07b0",
   "metadata": {},
   "outputs": [],
   "source": [
    "file_content = buffer.read()"
   ]
  },
  {
   "cell_type": "code",
   "execution_count": 10,
   "id": "328d2ff7-17ef-49af-a87a-31f0e8c2831e",
   "metadata": {},
   "outputs": [
    {
     "name": "stdout",
     "output_type": "stream",
     "text": [
      "File loaded into memory. Content length: 50760965 bytes\n"
     ]
    }
   ],
   "source": [
    "print(f\"File loaded into memory. Content length: {len(file_content)} bytes\")"
   ]
  },
  {
   "cell_type": "code",
   "execution_count": 11,
   "id": "40dfc4a2-f162-45b8-93a5-16c06e539da8",
   "metadata": {},
   "outputs": [],
   "source": [
    "ind = file_content.decode(\"utf-8\")"
   ]
  },
  {
   "cell_type": "code",
   "execution_count": 12,
   "id": "d8f51cc5-ec68-4fb7-9956-0994bd25236e",
   "metadata": {},
   "outputs": [],
   "source": [
    "import pandas as pd"
   ]
  },
  {
   "cell_type": "code",
   "execution_count": 13,
   "id": "c86fe782-17d7-4468-98b7-cc5401a7e379",
   "metadata": {},
   "outputs": [],
   "source": [
    "file_like_object = io.StringIO(ind)"
   ]
  },
  {
   "cell_type": "code",
   "execution_count": 14,
   "id": "cf17853f-446f-4177-919f-da0e7b56145f",
   "metadata": {},
   "outputs": [],
   "source": [
    "header = ind.split(\"\\n\")[0].split(\", \")"
   ]
  },
  {
   "cell_type": "code",
   "execution_count": 15,
   "id": "907acb97-8db1-4a3c-9e11-eca5ec8b0494",
   "metadata": {},
   "outputs": [],
   "source": [
    "df = pd.read_csv(file_like_object, delimiter=\"\\t\", skiprows=2, names=header)"
   ]
  },
  {
   "cell_type": "code",
   "execution_count": 16,
   "id": "4d6661cd-f86e-4ac5-953a-69186bc39590",
   "metadata": {},
   "outputs": [
    {
     "data": {
      "text/html": [
       "<div>\n",
       "<style scoped>\n",
       "    .dataframe tbody tr th:only-of-type {\n",
       "        vertical-align: middle;\n",
       "    }\n",
       "\n",
       "    .dataframe tbody tr th {\n",
       "        vertical-align: top;\n",
       "    }\n",
       "\n",
       "    .dataframe thead th {\n",
       "        text-align: right;\n",
       "    }\n",
       "</style>\n",
       "<table border=\"1\" class=\"dataframe\">\n",
       "  <thead>\n",
       "    <tr style=\"text-align: right;\">\n",
       "      <th></th>\n",
       "      <th>IDCODE</th>\n",
       "      <th>HEADER</th>\n",
       "      <th>ACCESSION DATE</th>\n",
       "      <th>COMPOUND</th>\n",
       "      <th>SOURCE</th>\n",
       "      <th>AUTHOR LIST</th>\n",
       "      <th>RESOLUTION</th>\n",
       "      <th>EXPERIMENT TYPE (IF NOT X-RAY)</th>\n",
       "    </tr>\n",
       "  </thead>\n",
       "  <tbody>\n",
       "    <tr>\n",
       "      <th>0</th>\n",
       "      <td>100D</td>\n",
       "      <td>DNA-RNA HYBRID</td>\n",
       "      <td>12/05/94</td>\n",
       "      <td>CRYSTAL STRUCTURE OF THE HIGHLY DISTORTED CHIM...</td>\n",
       "      <td>NaN</td>\n",
       "      <td>Ban, C., Ramakrishnan, B., Sundaralingam, M.</td>\n",
       "      <td>1.9</td>\n",
       "      <td>X-RAY DIFFRACTION</td>\n",
       "    </tr>\n",
       "    <tr>\n",
       "      <th>1</th>\n",
       "      <td>101D</td>\n",
       "      <td>DNA</td>\n",
       "      <td>12/14/94</td>\n",
       "      <td>REFINEMENT OF NETROPSIN BOUND TO DNA: BIAS AND...</td>\n",
       "      <td>NaN</td>\n",
       "      <td>Goodsell, D.S., Kopka, M.L., Dickerson, R.E.</td>\n",
       "      <td>2.25</td>\n",
       "      <td>X-RAY DIFFRACTION</td>\n",
       "    </tr>\n",
       "    <tr>\n",
       "      <th>2</th>\n",
       "      <td>101M</td>\n",
       "      <td>OXYGEN TRANSPORT</td>\n",
       "      <td>12/13/97</td>\n",
       "      <td>SPERM WHALE MYOGLOBIN F46V N-BUTYL ISOCYANIDE ...</td>\n",
       "      <td>Physeter catodon</td>\n",
       "      <td>Smith, R.D., Olson, J.S., Phillips Jr., G.N.</td>\n",
       "      <td>2.07</td>\n",
       "      <td>X-RAY DIFFRACTION</td>\n",
       "    </tr>\n",
       "    <tr>\n",
       "      <th>3</th>\n",
       "      <td>102D</td>\n",
       "      <td>DNA</td>\n",
       "      <td>12/15/94</td>\n",
       "      <td>SEQUENCE-DEPENDENT DRUG BINDING TO THE MINOR G...</td>\n",
       "      <td>NaN</td>\n",
       "      <td>Nunn, C.M., Neidle, S.</td>\n",
       "      <td>2.2</td>\n",
       "      <td>X-RAY DIFFRACTION</td>\n",
       "    </tr>\n",
       "    <tr>\n",
       "      <th>4</th>\n",
       "      <td>102L</td>\n",
       "      <td>HYDROLASE(O-GLYCOSYL)</td>\n",
       "      <td>09/29/92</td>\n",
       "      <td>HOW AMINO-ACID INSERTIONS ARE ALLOWED IN AN AL...</td>\n",
       "      <td>Enterobacteria phage T4</td>\n",
       "      <td>Heinz, D.W., Matthews, B.W.</td>\n",
       "      <td>1.74</td>\n",
       "      <td>X-RAY DIFFRACTION</td>\n",
       "    </tr>\n",
       "  </tbody>\n",
       "</table>\n",
       "</div>"
      ],
      "text/plain": [
       "  IDCODE                 HEADER ACCESSION DATE  \\\n",
       "0   100D         DNA-RNA HYBRID       12/05/94   \n",
       "1   101D                    DNA       12/14/94   \n",
       "2   101M       OXYGEN TRANSPORT       12/13/97   \n",
       "3   102D                    DNA       12/15/94   \n",
       "4   102L  HYDROLASE(O-GLYCOSYL)       09/29/92   \n",
       "\n",
       "                                            COMPOUND                   SOURCE  \\\n",
       "0  CRYSTAL STRUCTURE OF THE HIGHLY DISTORTED CHIM...                      NaN   \n",
       "1  REFINEMENT OF NETROPSIN BOUND TO DNA: BIAS AND...                      NaN   \n",
       "2  SPERM WHALE MYOGLOBIN F46V N-BUTYL ISOCYANIDE ...         Physeter catodon   \n",
       "3  SEQUENCE-DEPENDENT DRUG BINDING TO THE MINOR G...                      NaN   \n",
       "4  HOW AMINO-ACID INSERTIONS ARE ALLOWED IN AN AL...  Enterobacteria phage T4   \n",
       "\n",
       "                                    AUTHOR LIST RESOLUTION  \\\n",
       "0  Ban, C., Ramakrishnan, B., Sundaralingam, M.        1.9   \n",
       "1  Goodsell, D.S., Kopka, M.L., Dickerson, R.E.       2.25   \n",
       "2  Smith, R.D., Olson, J.S., Phillips Jr., G.N.       2.07   \n",
       "3                        Nunn, C.M., Neidle, S.        2.2   \n",
       "4                   Heinz, D.W., Matthews, B.W.       1.74   \n",
       "\n",
       "  EXPERIMENT TYPE (IF NOT X-RAY)  \n",
       "0              X-RAY DIFFRACTION  \n",
       "1              X-RAY DIFFRACTION  \n",
       "2              X-RAY DIFFRACTION  \n",
       "3              X-RAY DIFFRACTION  \n",
       "4              X-RAY DIFFRACTION  "
      ]
     },
     "execution_count": 16,
     "metadata": {},
     "output_type": "execute_result"
    }
   ],
   "source": [
    "df.head()"
   ]
  },
  {
   "cell_type": "code",
   "execution_count": 17,
   "id": "cf623674-532d-461d-9c72-8ab23edce5de",
   "metadata": {},
   "outputs": [
    {
     "data": {
      "text/plain": [
       "224612"
      ]
     },
     "execution_count": 17,
     "metadata": {},
     "output_type": "execute_result"
    }
   ],
   "source": [
    "len(df)"
   ]
  },
  {
   "cell_type": "code",
   "execution_count": 30,
   "id": "14f996c3-89e6-41e5-a52a-2a52655c0174",
   "metadata": {},
   "outputs": [],
   "source": [
    "pdb_ids = df.iloc[:, 0]"
   ]
  },
  {
   "cell_type": "code",
   "execution_count": 21,
   "id": "065f560f",
   "metadata": {},
   "outputs": [],
   "source": [
    "import redis"
   ]
  },
  {
   "cell_type": "code",
   "execution_count": 27,
   "id": "f276e50e",
   "metadata": {},
   "outputs": [],
   "source": [
    "r = redis.Redis.from_url(os.environ[\"REDIS_CONNECTION_STRING\"])"
   ]
  },
  {
   "cell_type": "code",
   "execution_count": 28,
   "id": "b11b887f",
   "metadata": {},
   "outputs": [
    {
     "name": "stdout",
     "output_type": "stream",
     "text": [
      "Connected to Redis!\n"
     ]
    }
   ],
   "source": [
    "try:\n",
    "    r.ping()\n",
    "    print(\"Connected to Redis!\")\n",
    "except redis.ConnectionError as e:\n",
    "    print(f\"Failed to connect: {e}\")"
   ]
  },
  {
   "cell_type": "code",
   "execution_count": 29,
   "id": "7bca10e6",
   "metadata": {},
   "outputs": [],
   "source": [
    "redis_set_key = \"br-resource-pdb-ids\""
   ]
  },
  {
   "cell_type": "code",
   "execution_count": 31,
   "id": "ce1afe49",
   "metadata": {},
   "outputs": [
    {
     "data": {
      "text/plain": [
       "224612"
      ]
     },
     "execution_count": 31,
     "metadata": {},
     "output_type": "execute_result"
    }
   ],
   "source": [
    "r.sadd(redis_set_key, *pdb_ids)"
   ]
  },
  {
   "cell_type": "code",
   "execution_count": null,
   "id": "90abedf9",
   "metadata": {},
   "outputs": [],
   "source": []
  }
 ],
 "metadata": {
  "kernelspec": {
   "display_name": "Python 3 (ipykernel)",
   "language": "python",
   "name": "python3"
  },
  "language_info": {
   "codemirror_mode": {
    "name": "ipython",
    "version": 3
   },
   "file_extension": ".py",
   "mimetype": "text/x-python",
   "name": "python",
   "nbconvert_exporter": "python",
   "pygments_lexer": "ipython3",
   "version": "3.12.6"
  }
 },
 "nbformat": 4,
 "nbformat_minor": 5
}
