{
 "cells": [
  {
   "cell_type": "code",
   "execution_count": 1,
   "id": "ead1906a-c9dc-410b-b6c0-4ff2d873512e",
   "metadata": {},
   "outputs": [],
   "source": [
    "import boto3\n",
    "import io\n",
    "import json\n",
    "import redis"
   ]
  },
  {
   "cell_type": "code",
   "execution_count": 10,
   "id": "7db0ea2a-16e9-478d-89fb-ef0609768d4d",
   "metadata": {},
   "outputs": [],
   "source": [
    "bucket_name = \"brainshare-primary-6944fc2\"\n",
    "object_key = \"entries.idx\"\n",
    "s3 = boto3.client(\"s3\")"
   ]
  },
  {
   "cell_type": "code",
   "execution_count": 11,
   "id": "3a5942de-fd76-40b2-b4ee-f0cc7ca19374",
   "metadata": {},
   "outputs": [],
   "source": [
    "buffer = io.BytesIO()"
   ]
  },
  {
   "cell_type": "code",
   "execution_count": 12,
   "id": "a64216f3-2f91-44ab-ae91-4300ed1976fd",
   "metadata": {},
   "outputs": [],
   "source": [
    "s3.download_fileobj(bucket_name, object_key, buffer)"
   ]
  },
  {
   "cell_type": "code",
   "execution_count": 13,
   "id": "2603c898-3da5-4096-b833-b78a260b7c9a",
   "metadata": {},
   "outputs": [
    {
     "data": {
      "text/plain": [
       "0"
      ]
     },
     "execution_count": 13,
     "metadata": {},
     "output_type": "execute_result"
    }
   ],
   "source": [
    "buffer.seek(0)"
   ]
  },
  {
   "cell_type": "code",
   "execution_count": 14,
   "id": "4181dfe2-9ff5-4632-94b5-d5fa9ffb07b0",
   "metadata": {},
   "outputs": [],
   "source": [
    "file_content = buffer.read()"
   ]
  },
  {
   "cell_type": "code",
   "execution_count": 15,
   "id": "328d2ff7-17ef-49af-a87a-31f0e8c2831e",
   "metadata": {},
   "outputs": [
    {
     "name": "stdout",
     "output_type": "stream",
     "text": [
      "File loaded into memory. Content length: 50760965 bytes\n"
     ]
    }
   ],
   "source": [
    "print(f\"File loaded into memory. Content length: {len(file_content)} bytes\")"
   ]
  },
  {
   "cell_type": "code",
   "execution_count": 16,
   "id": "40dfc4a2-f162-45b8-93a5-16c06e539da8",
   "metadata": {},
   "outputs": [],
   "source": [
    "ind = file_content.decode(\"utf-8\")"
   ]
  },
  {
   "cell_type": "code",
   "execution_count": 17,
   "id": "d8f51cc5-ec68-4fb7-9956-0994bd25236e",
   "metadata": {},
   "outputs": [],
   "source": [
    "import pandas as pd"
   ]
  },
  {
   "cell_type": "code",
   "execution_count": 18,
   "id": "c86fe782-17d7-4468-98b7-cc5401a7e379",
   "metadata": {},
   "outputs": [],
   "source": [
    "file_like_object = io.StringIO(ind)"
   ]
  },
  {
   "cell_type": "code",
   "execution_count": 19,
   "id": "cf17853f-446f-4177-919f-da0e7b56145f",
   "metadata": {},
   "outputs": [],
   "source": [
    "header = ind.split(\"\\n\")[0].split(\", \")"
   ]
  },
  {
   "cell_type": "code",
   "execution_count": 20,
   "id": "907acb97-8db1-4a3c-9e11-eca5ec8b0494",
   "metadata": {},
   "outputs": [],
   "source": [
    "df = pd.read_csv(file_like_object, delimiter=\"\\t\", skiprows=2, names=header)"
   ]
  },
  {
   "cell_type": "code",
   "execution_count": 21,
   "id": "cf623674-532d-461d-9c72-8ab23edce5de",
   "metadata": {},
   "outputs": [
    {
     "data": {
      "text/plain": [
       "224612"
      ]
     },
     "execution_count": 21,
     "metadata": {},
     "output_type": "execute_result"
    }
   ],
   "source": [
    "len(df)"
   ]
  },
  {
   "cell_type": "code",
   "execution_count": 22,
   "id": "14f996c3-89e6-41e5-a52a-2a52655c0174",
   "metadata": {},
   "outputs": [],
   "source": [
    "pdb_ids = df.iloc[:, 0]"
   ]
  },
  {
   "cell_type": "code",
   "execution_count": 4,
   "id": "f276e50e",
   "metadata": {},
   "outputs": [],
   "source": [
    "r = redis.Redis.from_url(\"redis://localhost:6379\")"
   ]
  },
  {
   "cell_type": "code",
   "execution_count": 5,
   "id": "b11b887f",
   "metadata": {},
   "outputs": [
    {
     "name": "stdout",
     "output_type": "stream",
     "text": [
      "Connected to Redis!\n"
     ]
    }
   ],
   "source": [
    "try:\n",
    "    r.ping()\n",
    "    print(\"Connected to Redis!\")\n",
    "except redis.ConnectionError as e:\n",
    "    print(f\"Failed to connect: {e}\")"
   ]
  },
  {
   "cell_type": "code",
   "execution_count": 6,
   "id": "7bca10e6",
   "metadata": {},
   "outputs": [],
   "source": [
    "redis_set_key = \"br-resource-pdb-ids\""
   ]
  },
  {
   "cell_type": "code",
   "execution_count": 23,
   "id": "ce1afe49",
   "metadata": {},
   "outputs": [
    {
     "data": {
      "text/plain": [
       "224612"
      ]
     },
     "execution_count": 23,
     "metadata": {},
     "output_type": "execute_result"
    }
   ],
   "source": [
    "r.sadd(redis_set_key, *pdb_ids)"
   ]
  },
  {
   "cell_type": "code",
   "execution_count": 24,
   "id": "90abedf9",
   "metadata": {},
   "outputs": [
    {
     "data": {
      "text/plain": [
       "224612"
      ]
     },
     "execution_count": 24,
     "metadata": {},
     "output_type": "execute_result"
    }
   ],
   "source": [
    "r.scard(redis_set_key)"
   ]
  },
  {
   "cell_type": "code",
   "execution_count": null,
   "id": "08e7e4f1-f975-4876-a12b-99666fa7da29",
   "metadata": {},
   "outputs": [],
   "source": [
    "redis_info_key = \"br-resource-info-pdb-ids\"\n",
    "r.set(\n",
    "    redis_info_key,\n",
    "    json.dumps(\n",
    "        {\n",
    "            \"num_entries\": len(pdb_ids),\n",
    "            \"description\": \"PDB IDs for all entries in the BrainShare resource\",\n",
    "            \"link\": \"https://www.rcsb.org/\",\n",
    "            \"link_prefix\": \"https://www.rcsb.org/structure/\",\n",
    "        }\n",
    "    ),\n",
    ")"
   ]
  },
  {
   "cell_type": "code",
   "execution_count": null,
   "id": "f6d0cdaa",
   "metadata": {},
   "outputs": [],
   "source": []
  }
 ],
 "metadata": {
  "kernelspec": {
   "display_name": "Python 3 (ipykernel)",
   "language": "python",
   "name": "python3"
  },
  "language_info": {
   "codemirror_mode": {
    "name": "ipython",
    "version": 3
   },
   "file_extension": ".py",
   "mimetype": "text/x-python",
   "name": "python",
   "nbconvert_exporter": "python",
   "pygments_lexer": "ipython3",
   "version": "3.12.6"
  }
 },
 "nbformat": 4,
 "nbformat_minor": 5
}
