{
 "cells": [
  {
   "cell_type": "markdown",
   "metadata": {},
   "source": [
    "Reads brainshare credentials from .env\n"
   ]
  },
  {
   "cell_type": "code",
   "execution_count": 1,
   "metadata": {},
   "outputs": [],
   "source": [
    "%load_ext autoreload\n",
    "%autoreload 2"
   ]
  },
  {
   "cell_type": "code",
   "execution_count": 7,
   "metadata": {},
   "outputs": [],
   "source": [
    "from os.path import abspath, curdir, join, exists\n",
    "import gffutils\n",
    "import brainshare as br\n",
    "import dotenv"
   ]
  },
  {
   "cell_type": "code",
   "execution_count": 6,
   "metadata": {},
   "outputs": [
    {
     "data": {
      "text/plain": [
       "True"
      ]
     },
     "execution_count": 6,
     "metadata": {},
     "output_type": "execute_result"
    }
   ],
   "source": [
    "dotenv.load_dotenv()"
   ]
  },
  {
   "cell_type": "code",
   "execution_count": 9,
   "metadata": {},
   "outputs": [],
   "source": [
    "data_dir = abspath(join(curdir, \"..\", \"data\"))"
   ]
  },
  {
   "cell_type": "code",
   "execution_count": 10,
   "metadata": {},
   "outputs": [],
   "source": [
    "recreate = False\n",
    "if not exists(join(data_dir, \"Oner_Uvic_2.0.db\")) or recreate:\n",
    "    db = gffutils.create_db(\n",
    "        join(data_dir, \"Oner_Uvic_2.0.gff\"),\n",
    "        join(data_dir, \"Oner_Uvic_2.0.db\"),\n",
    "        merge_strategy=\"merge\",\n",
    "        force=True,\n",
    "    )"
   ]
  },
  {
   "cell_type": "code",
   "execution_count": 12,
   "metadata": {},
   "outputs": [],
   "source": [
    "project_name = \"Oner_Uvic_2.0\"\n",
    "br.deploy_db_file(project_name, join(data_dir, \"Oner_Uvic_2.0.db\"))"
   ]
  }
 ],
 "metadata": {
  "kernelspec": {
   "display_name": "genome-example-1WdW1ODz-py3.12",
   "language": "python",
   "name": "python3"
  },
  "language_info": {
   "codemirror_mode": {
    "name": "ipython",
    "version": 3
   },
   "file_extension": ".py",
   "mimetype": "text/x-python",
   "name": "python",
   "nbconvert_exporter": "python",
   "pygments_lexer": "ipython3",
   "version": "3.12.3"
  }
 },
 "nbformat": 4,
 "nbformat_minor": 2
}
